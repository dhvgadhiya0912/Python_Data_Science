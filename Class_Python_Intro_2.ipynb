{
 "cells": [
  {
   "cell_type": "markdown",
   "metadata": {
    "collapsed": true,
    "id": "VZC0Jb6dgBFM"
   },
   "source": [
    "# Contents\n",
    "\n",
    "1. **[Introduction to List](#list)   -> [ ]**\n",
    "2. **[Introduction to Tuple](#tuple)  -> ( )    can not update...**\n",
    "3. **[Introduction to Dictionary](#Dictionary) -> {:}**\n",
    "3. **[Introduction to Sets](#sets)  -> {}**"
   ]
  },
  {
   "cell_type": "markdown",
   "metadata": {
    "id": "4NLXGP7CgBFO"
   },
   "source": [
    "<a id=\"list\"> </a>\n",
    "## <span style=\"color:darkolivegreen\">**1. Introduction to List**</span>\n"
   ]
  },
  {
   "cell_type": "markdown",
   "metadata": {
    "id": "QqZoGOCsgBFP"
   },
   "source": [
    "### Constructing Lists\n",
    "\n",
    "To create a list, use square brackets `[ ]` and separate items in the list with commas.\n",
    "A list can be empty or contain any number of items with different data types (integers, float, strings, etc.)"
   ]
  },
  {
   "cell_type": "code",
   "execution_count": 1,
   "metadata": {
    "id": "UraWAxswgBFQ"
   },
   "outputs": [
    {
     "name": "stdout",
     "output_type": "stream",
     "text": [
      "['data science', 25, 'machine learning', 'python', 'Java']\n"
     ]
    }
   ],
   "source": [
    "#create a list\n",
    "\n",
    "course = ['data science', 25 , 'machine learning', 'python', 'Java']\n",
    "print(course)\n"
   ]
  },
  {
   "cell_type": "markdown",
   "metadata": {
    "id": "Urz3y22hgBFW"
   },
   "source": [
    "### Acessing Elements in a List\n",
    "You can access the list items by referring to the index number"
   ]
  },
  {
   "cell_type": "markdown",
   "metadata": {
    "id": "gn7hkvCegBFX"
   },
   "source": [
    "**Indexing:**<br>\n",
    "We use the index operator `[ ]`. Note that the index starts from 0 in python and must be an integer"
   ]
  },
  {
   "cell_type": "code",
   "execution_count": 2,
   "metadata": {
    "id": "NbWA-bH0htyv"
   },
   "outputs": [
    {
     "data": {
      "text/plain": [
       "['data science', 25, 'machine learning']"
      ]
     },
     "execution_count": 2,
     "metadata": {},
     "output_type": "execute_result"
    }
   ],
   "source": [
    "# Inclusive and Exclusive in Python\n",
    "# course[0]\n",
    "course[0:3]\n",
    "# 0 is inclusive while 3 is exclusive"
   ]
  },
  {
   "cell_type": "code",
   "execution_count": 3,
   "metadata": {
    "id": "vX_CxZ_VgBFX"
   },
   "outputs": [
    {
     "data": {
      "text/plain": [
       "25"
      ]
     },
     "execution_count": 3,
     "metadata": {},
     "output_type": "execute_result"
    }
   ],
   "source": [
    "#Print the second item of the list\n",
    "course[1]"
   ]
  },
  {
   "cell_type": "code",
   "execution_count": 4,
   "metadata": {},
   "outputs": [
    {
     "data": {
      "text/plain": [
       "'Java'"
      ]
     },
     "execution_count": 4,
     "metadata": {},
     "output_type": "execute_result"
    }
   ],
   "source": [
    "# to access elements from the right\n",
    "course[-1]"
   ]
  },
  {
   "cell_type": "markdown",
   "metadata": {},
   "source": [
    "    "
   ]
  },
  {
   "cell_type": "markdown",
   "metadata": {
    "id": "N3TiHDDIgBFY"
   },
   "source": [
    "**Negative Indexing**:<br>\n",
    "Negative indexing means beginning from the end, -1 refers to the last item, -2 refers to the second last item"
   ]
  },
  {
   "cell_type": "code",
   "execution_count": 16,
   "metadata": {},
   "outputs": [
    {
     "data": {
      "text/plain": [
       "['data science', 25, 'machine learning', 'python', 'Java']"
      ]
     },
     "execution_count": 16,
     "metadata": {},
     "output_type": "execute_result"
    }
   ],
   "source": [
    "course"
   ]
  },
  {
   "cell_type": "code",
   "execution_count": 15,
   "metadata": {
    "id": "1seE_9wugBFa"
   },
   "outputs": [
    {
     "data": {
      "text/plain": [
       "'python'"
      ]
     },
     "execution_count": 15,
     "metadata": {},
     "output_type": "execute_result"
    }
   ],
   "source": [
    "#Print the second last item of the list\n",
    "course[-2]"
   ]
  },
  {
   "cell_type": "markdown",
   "metadata": {
    "id": "5VX0PoidgBFa"
   },
   "source": [
    "### Slicing of a List\n",
    "List uses the slicing operator `:` (colon) to extract part of the sequence"
   ]
  },
  {
   "cell_type": "code",
   "execution_count": 7,
   "metadata": {
    "id": "LFHUzio_gBFb"
   },
   "outputs": [
    {
     "data": {
      "text/plain": [
       "['machine learning', 'python']"
      ]
     },
     "execution_count": 7,
     "metadata": {},
     "output_type": "execute_result"
    }
   ],
   "source": [
    "#Return last three elements from the list \n",
    "course[-3:]\n",
    "\n",
    "# for slicing in between\n",
    "course[-3:-1]"
   ]
  },
  {
   "cell_type": "markdown",
   "metadata": {
    "id": "ydItSoJYgBFe"
   },
   "source": [
    "### Change Item Value\n",
    "Refer the index number to change the value of a specific item"
   ]
  },
  {
   "cell_type": "code",
   "execution_count": 8,
   "metadata": {},
   "outputs": [
    {
     "data": {
      "text/plain": [
       "['data science', 25, 'machine learning', 'python', 'Java']"
      ]
     },
     "execution_count": 8,
     "metadata": {},
     "output_type": "execute_result"
    }
   ],
   "source": [
    "course"
   ]
  },
  {
   "cell_type": "code",
   "execution_count": 9,
   "metadata": {
    "id": "P6J-PRRJgBFe"
   },
   "outputs": [
    {
     "data": {
      "text/plain": [
       "['data science', 25, 'machine learning', 'R', 'Java']"
      ]
     },
     "execution_count": 9,
     "metadata": {},
     "output_type": "execute_result"
    }
   ],
   "source": [
    "#change the third item\n",
    "course[3] = 'R'\n",
    "course"
   ]
  },
  {
   "cell_type": "markdown",
   "metadata": {
    "id": "LNvMI02AgBFe"
   },
   "source": [
    "### List Methods\n",
    "Python has a set of built-in methods that you can use on lists. Some examples are:<br>\n",
    "\n",
    "`append()`<br>\n",
    "`insert()`<br>\n",
    "`reverse()`<br>\n",
    "\n",
    "You can press the `tab` key to see the list of available methods "
   ]
  },
  {
   "cell_type": "markdown",
   "metadata": {},
   "source": [
    "    "
   ]
  },
  {
   "cell_type": "markdown",
   "metadata": {
    "id": "64xQQaXYgBFf"
   },
   "source": [
    "**`list.append()`**<br>\n",
    "This method will add the element at the end of a list"
   ]
  },
  {
   "cell_type": "code",
   "execution_count": 33,
   "metadata": {},
   "outputs": [
    {
     "data": {
      "text/plain": [
       "['data science', 25, 'machine learning', 'R', 'Java']"
      ]
     },
     "execution_count": 33,
     "metadata": {},
     "output_type": "execute_result"
    }
   ],
   "source": [
    "course"
   ]
  },
  {
   "cell_type": "code",
   "execution_count": 34,
   "metadata": {
    "id": "ErTxcpcUgBFf"
   },
   "outputs": [
    {
     "data": {
      "text/plain": [
       "['data science', 25, 'machine learning', 'R', 'Java', 'Python']"
      ]
     },
     "execution_count": 34,
     "metadata": {},
     "output_type": "execute_result"
    }
   ],
   "source": [
    "# add element to the list\n",
    "course.append('Python')\n",
    "course"
   ]
  },
  {
   "cell_type": "markdown",
   "metadata": {
    "id": "f4yXJihggBFg"
   },
   "source": [
    "**`list.insert(i, item)`**<br>\n",
    "This method will insert an element at the ith index in a list"
   ]
  },
  {
   "cell_type": "code",
   "execution_count": 35,
   "metadata": {
    "id": "cZTbpyNZgBFg"
   },
   "outputs": [
    {
     "data": {
      "text/plain": [
       "['data science', 25, 'machine learning', 'Statistics', 'R', 'Java', 'Python']"
      ]
     },
     "execution_count": 35,
     "metadata": {},
     "output_type": "execute_result"
    }
   ],
   "source": [
    "# insert element at 2nd index in a list\n",
    "course.insert(3 ,'Statistics')\n",
    "course"
   ]
  },
  {
   "cell_type": "markdown",
   "metadata": {
    "id": "UnJqmVt3gBFi"
   },
   "source": [
    "**`list.reverse()`**<br>\n",
    "This method reverses the sorting order of the elements"
   ]
  },
  {
   "cell_type": "code",
   "execution_count": 36,
   "metadata": {
    "id": "_zGEMyaqgBFj"
   },
   "outputs": [
    {
     "data": {
      "text/plain": [
       "['Python', 'Java', 'R', 'Statistics', 'machine learning', 25, 'data science']"
      ]
     },
     "execution_count": 36,
     "metadata": {},
     "output_type": "execute_result"
    }
   ],
   "source": [
    "# reverse the elements in the list\n",
    "course.reverse()\n",
    "course"
   ]
  },
  {
   "cell_type": "markdown",
   "metadata": {},
   "source": [
    "    "
   ]
  },
  {
   "cell_type": "markdown",
   "metadata": {},
   "source": [
    "    "
   ]
  },
  {
   "cell_type": "markdown",
   "metadata": {
    "id": "WvUtNDg8gBFl"
   },
   "source": [
    "<a id=\"tuple\"> </a>\n",
    "## <span style=\"color:darkolivegreen\">**2. Introduction to Tuple**</span>"
   ]
  },
  {
   "cell_type": "markdown",
   "metadata": {
    "id": "rcH1Hn_AgBFm"
   },
   "source": [
    "### Creating Tuple\n",
    "We can have tuple of same type of data items as well as mixed type of data items "
   ]
  },
  {
   "cell_type": "code",
   "execution_count": 39,
   "metadata": {
    "id": "z-NuTyQYgBFm"
   },
   "outputs": [
    {
     "data": {
      "text/plain": [
       "(45, 5.597, 'Python')"
      ]
     },
     "execution_count": 39,
     "metadata": {},
     "output_type": "execute_result"
    }
   ],
   "source": [
    "# Create a tuple of int, float, string\n",
    "my_tuple = (45, 5.597, 'Python')\n",
    "my_tuple"
   ]
  },
  {
   "cell_type": "markdown",
   "metadata": {
    "id": "BrVHJy0igBFn"
   },
   "source": [
    "### Access Tuple Elements\n",
    "We use indexes to access the elements of a tuple"
   ]
  },
  {
   "cell_type": "code",
   "execution_count": 40,
   "metadata": {
    "id": "4FlBcwcsgBFn"
   },
   "outputs": [
    {
     "data": {
      "text/plain": [
       "5.597"
      ]
     },
     "execution_count": 40,
     "metadata": {},
     "output_type": "execute_result"
    }
   ],
   "source": [
    "# access the second element from the tuple\n",
    "my_tuple[1]"
   ]
  },
  {
   "cell_type": "markdown",
   "metadata": {
    "id": "BGiFfk93gBFn"
   },
   "source": [
    "### Change Tuple Values\n",
    "We cannot change the elements of a tuple because elements of <span style=\"color:crimson\">tuples are immutable</span>."
   ]
  },
  {
   "cell_type": "code",
   "execution_count": 41,
   "metadata": {},
   "outputs": [
    {
     "data": {
      "text/plain": [
       "(45, 5.597, 'Python')"
      ]
     },
     "execution_count": 41,
     "metadata": {},
     "output_type": "execute_result"
    }
   ],
   "source": [
    "my_tuple"
   ]
  },
  {
   "cell_type": "code",
   "execution_count": 42,
   "metadata": {
    "id": "oXSuXF7CgBFo"
   },
   "outputs": [
    {
     "ename": "TypeError",
     "evalue": "'tuple' object does not support item assignment",
     "output_type": "error",
     "traceback": [
      "\u001b[0;31m---------------------------------------------------------------------------\u001b[0m",
      "\u001b[0;31mTypeError\u001b[0m                                 Traceback (most recent call last)",
      "\u001b[0;32m<ipython-input-42-acc1ba9b3e9f>\u001b[0m in \u001b[0;36m<module>\u001b[0;34m\u001b[0m\n\u001b[1;32m      1\u001b[0m \u001b[0;31m# change the second element from the tuple\u001b[0m\u001b[0;34m\u001b[0m\u001b[0;34m\u001b[0m\u001b[0;34m\u001b[0m\u001b[0m\n\u001b[0;32m----> 2\u001b[0;31m \u001b[0mmy_tuple\u001b[0m\u001b[0;34m[\u001b[0m\u001b[0;36m1\u001b[0m\u001b[0;34m]\u001b[0m\u001b[0;34m=\u001b[0m \u001b[0;36m6\u001b[0m\u001b[0;34m\u001b[0m\u001b[0;34m\u001b[0m\u001b[0m\n\u001b[0m\u001b[1;32m      3\u001b[0m \u001b[0mmy_tuple\u001b[0m\u001b[0;34m\u001b[0m\u001b[0;34m\u001b[0m\u001b[0m\n",
      "\u001b[0;31mTypeError\u001b[0m: 'tuple' object does not support item assignment"
     ]
    }
   ],
   "source": [
    "# change the second element from the tuple\n",
    "my_tuple[1]= 6\n",
    "my_tuple"
   ]
  },
  {
   "cell_type": "markdown",
   "metadata": {
    "id": "oadoHDJzgBFo"
   },
   "source": [
    "### Delete Operation on Tuple\n",
    "As discussed tuple elements are immutable which also means that we <span style=\"color:crimson\">cannot delete the elements of a tuple</span>. However deleting entire tuple is possible"
   ]
  },
  {
   "cell_type": "code",
   "execution_count": 43,
   "metadata": {
    "id": "9m-iGGaWgBFo",
    "scrolled": true
   },
   "outputs": [
    {
     "ename": "TypeError",
     "evalue": "'tuple' object doesn't support item deletion",
     "output_type": "error",
     "traceback": [
      "\u001b[0;31m---------------------------------------------------------------------------\u001b[0m",
      "\u001b[0;31mTypeError\u001b[0m                                 Traceback (most recent call last)",
      "\u001b[0;32m<ipython-input-43-f23b870e4383>\u001b[0m in \u001b[0;36m<module>\u001b[0;34m\u001b[0m\n\u001b[1;32m      1\u001b[0m \u001b[0;31m# delete element from the tuple\u001b[0m\u001b[0;34m\u001b[0m\u001b[0;34m\u001b[0m\u001b[0;34m\u001b[0m\u001b[0m\n\u001b[0;32m----> 2\u001b[0;31m \u001b[0;32mdel\u001b[0m \u001b[0mmy_tuple\u001b[0m\u001b[0;34m[\u001b[0m\u001b[0;36m1\u001b[0m\u001b[0;34m]\u001b[0m\u001b[0;34m\u001b[0m\u001b[0;34m\u001b[0m\u001b[0m\n\u001b[0m",
      "\u001b[0;31mTypeError\u001b[0m: 'tuple' object doesn't support item deletion"
     ]
    }
   ],
   "source": [
    "# delete element from the tuple\n",
    "del my_tuple[1]"
   ]
  },
  {
   "cell_type": "code",
   "execution_count": 44,
   "metadata": {},
   "outputs": [],
   "source": [
    "del my_tuple"
   ]
  },
  {
   "cell_type": "code",
   "execution_count": 45,
   "metadata": {},
   "outputs": [
    {
     "ename": "NameError",
     "evalue": "name 'my_tuple' is not defined",
     "output_type": "error",
     "traceback": [
      "\u001b[0;31m---------------------------------------------------------------------------\u001b[0m",
      "\u001b[0;31mNameError\u001b[0m                                 Traceback (most recent call last)",
      "\u001b[0;32m<ipython-input-45-04b36b148cc9>\u001b[0m in \u001b[0;36m<module>\u001b[0;34m\u001b[0m\n\u001b[0;32m----> 1\u001b[0;31m \u001b[0mmy_tuple\u001b[0m\u001b[0;34m\u001b[0m\u001b[0;34m\u001b[0m\u001b[0m\n\u001b[0m",
      "\u001b[0;31mNameError\u001b[0m: name 'my_tuple' is not defined"
     ]
    }
   ],
   "source": [
    "my_tuple"
   ]
  },
  {
   "cell_type": "markdown",
   "metadata": {
    "id": "_Zw2-j80gBFp"
   },
   "source": [
    "### Tuple Methods"
   ]
  },
  {
   "cell_type": "markdown",
   "metadata": {
    "id": "B48uZoq8gBFp"
   },
   "source": [
    "Python has built-in methods that you can use on tuples:<br>\n",
    "\n",
    "`count()`<br>\n",
    "`index()`<br>\n",
    "\n",
    "You can press the `tab` key to see the list of available methods "
   ]
  },
  {
   "cell_type": "markdown",
   "metadata": {
    "id": "1IiNxLlngBFp"
   },
   "source": [
    "**`tuple.count()`**<br>\n",
    "Returns the **number of times** a specified value occurs in a tuple"
   ]
  },
  {
   "cell_type": "code",
   "execution_count": 47,
   "metadata": {},
   "outputs": [],
   "source": [
    "my_tuple = ('Python is a programming language')"
   ]
  },
  {
   "cell_type": "code",
   "execution_count": 49,
   "metadata": {
    "id": "6FBZXgEIgBFp"
   },
   "outputs": [
    {
     "data": {
      "text/plain": [
       "1"
      ]
     },
     "execution_count": 49,
     "metadata": {},
     "output_type": "execute_result"
    }
   ],
   "source": [
    "my_tuple.count('P')"
   ]
  },
  {
   "cell_type": "markdown",
   "metadata": {
    "id": "kW-d6_X-gBFp"
   },
   "source": [
    "**`tuple.index()`**<br>\n",
    "Searches the tuple for a specified value and returns the position of **where** it was found"
   ]
  },
  {
   "cell_type": "code",
   "execution_count": 50,
   "metadata": {
    "id": "rY5qWJM_gBFq"
   },
   "outputs": [
    {
     "data": {
      "text/plain": [
       "4"
      ]
     },
     "execution_count": 50,
     "metadata": {},
     "output_type": "execute_result"
    }
   ],
   "source": [
    "my_tuple.index('o')"
   ]
  },
  {
   "cell_type": "markdown",
   "metadata": {},
   "source": [
    "    *Note - Find the index for all the o'"
   ]
  },
  {
   "cell_type": "markdown",
   "metadata": {},
   "source": [
    "    "
   ]
  },
  {
   "cell_type": "markdown",
   "metadata": {},
   "source": [
    "<a id=\"Dictionary\"> </a>\n",
    "## <span style=\"color:darkolivegreen\">**3. Introduction to Dictionary**</span>"
   ]
  },
  {
   "cell_type": "markdown",
   "metadata": {},
   "source": [
    "**General Syntax of Dictionary:**<br>\n",
    "dictionary_name = {&nbsp;key_1: value_1,<br>\n",
    "&nbsp;&nbsp;&nbsp;&nbsp;&nbsp;&nbsp;&nbsp;&nbsp;&nbsp;&nbsp;&nbsp;&nbsp;&nbsp;&nbsp;&nbsp;&nbsp;&nbsp;&nbsp;&nbsp;&nbsp;&nbsp;&nbsp;&nbsp;&nbsp;&nbsp;&nbsp;&nbsp;&nbsp;&nbsp;&nbsp;&nbsp;&nbsp;                   key_2: value_2,<br>\n",
    "&nbsp;&nbsp;&nbsp;&nbsp;&nbsp;&nbsp;&nbsp;&nbsp;&nbsp;&nbsp;&nbsp;&nbsp;&nbsp;&nbsp;&nbsp;&nbsp;&nbsp;&nbsp;&nbsp;&nbsp;&nbsp;&nbsp;&nbsp;&nbsp;&nbsp;&nbsp;&nbsp;&nbsp;&nbsp;&nbsp;&nbsp;&nbsp;                    key_3: value_3,<br>\n",
    "&nbsp;&nbsp;&nbsp;&nbsp;&nbsp;&nbsp;&nbsp;&nbsp;&nbsp;&nbsp;&nbsp;&nbsp;&nbsp;&nbsp;&nbsp;&nbsp;&nbsp;&nbsp;&nbsp;&nbsp;&nbsp;&nbsp;&nbsp;&nbsp;&nbsp;&nbsp;&nbsp;&nbsp;&nbsp;&nbsp;&nbsp;&nbsp;                    }"
   ]
  },
  {
   "cell_type": "markdown",
   "metadata": {},
   "source": [
    "    "
   ]
  },
  {
   "cell_type": "markdown",
   "metadata": {},
   "source": [
    "### Create a Dictionary\n",
    "Separate keys from values with a colon `:` and a pair from another by a comma `,` Put it all in curly `{}` braces"
   ]
  },
  {
   "cell_type": "code",
   "execution_count": 51,
   "metadata": {},
   "outputs": [
    {
     "data": {
      "text/plain": [
       "{'Elon': 84654846, 'Bezos': 73468464, 'Mark': 5646875}"
      ]
     },
     "execution_count": 51,
     "metadata": {},
     "output_type": "execute_result"
    }
   ],
   "source": [
    "# Create a dictionary\n",
    "account = {'Elon': 84654846, \n",
    "          'Bezos': 73468464,\n",
    "          'Mark': 5646875}\n",
    "\n",
    "account"
   ]
  },
  {
   "cell_type": "markdown",
   "metadata": {},
   "source": [
    "    "
   ]
  },
  {
   "cell_type": "markdown",
   "metadata": {},
   "source": [
    "### Accessing Items\n",
    "You can access the items of a dictionary by referring to its `key name`, inside square brackets"
   ]
  },
  {
   "cell_type": "code",
   "execution_count": 52,
   "metadata": {},
   "outputs": [
    {
     "data": {
      "text/plain": [
       "5646875"
      ]
     },
     "execution_count": 52,
     "metadata": {},
     "output_type": "execute_result"
    }
   ],
   "source": [
    "# Get the value of a key\n",
    "account['Mark']"
   ]
  },
  {
   "cell_type": "markdown",
   "metadata": {},
   "source": [
    "    "
   ]
  },
  {
   "cell_type": "markdown",
   "metadata": {},
   "source": [
    "### Change Values\n",
    "Dictionary is <span style=\"color:crimson\">mutable</span>. You can change the value of a specific element by referring to its `key name`"
   ]
  },
  {
   "cell_type": "code",
   "execution_count": 53,
   "metadata": {},
   "outputs": [
    {
     "data": {
      "text/plain": [
       "{'Elon': 84654846, 'Bezos': 73468464, 'Mark': 0}"
      ]
     },
     "execution_count": 53,
     "metadata": {},
     "output_type": "execute_result"
    }
   ],
   "source": [
    "# Change a value\n",
    "account['Mark'] = 0\n",
    "account"
   ]
  },
  {
   "cell_type": "markdown",
   "metadata": {},
   "source": [
    "### **Adding Items**\n",
    "Adding an item to the dictionary is done by using a new index key and assigning a value to it."
   ]
  },
  {
   "cell_type": "code",
   "execution_count": 54,
   "metadata": {},
   "outputs": [
    {
     "data": {
      "text/plain": [
       "{'Elon': 84654846, 'Bezos': 73468464, 'Mark': 0, 'Bill': 5468415}"
      ]
     },
     "execution_count": 54,
     "metadata": {},
     "output_type": "execute_result"
    }
   ],
   "source": [
    "# Add new item to the dictionary\n",
    "account['Bill'] = 5468415\n",
    "account"
   ]
  },
  {
   "cell_type": "markdown",
   "metadata": {},
   "source": [
    "    "
   ]
  },
  {
   "cell_type": "markdown",
   "metadata": {},
   "source": [
    "### Dictionary Methods"
   ]
  },
  {
   "cell_type": "markdown",
   "metadata": {},
   "source": [
    "There are several methods that you can use on a dictionary:<br>\n",
    "\n",
    "`pop()`<br>\n",
    "`clear()`\n",
    "\n",
    "You can press the `tab` key to see the list of available methods "
   ]
  },
  {
   "cell_type": "markdown",
   "metadata": {},
   "source": [
    "**`dict.pop()`**<br>\n",
    "This method removes the item with the specified key name"
   ]
  },
  {
   "cell_type": "code",
   "execution_count": 55,
   "metadata": {},
   "outputs": [
    {
     "data": {
      "text/plain": [
       "{'Elon': 84654846, 'Bezos': 73468464, 'Bill': 5468415}"
      ]
     },
     "execution_count": 55,
     "metadata": {},
     "output_type": "execute_result"
    }
   ],
   "source": [
    "#remove a key from the dictionary\n",
    "account.pop('Mark')\n",
    "account"
   ]
  },
  {
   "cell_type": "markdown",
   "metadata": {},
   "source": [
    "    "
   ]
  },
  {
   "cell_type": "markdown",
   "metadata": {},
   "source": [
    "**`dict.clear()`**<br>\n",
    "This method empties the entire dictionary"
   ]
  },
  {
   "cell_type": "code",
   "execution_count": 57,
   "metadata": {},
   "outputs": [
    {
     "data": {
      "text/plain": [
       "{}"
      ]
     },
     "execution_count": 57,
     "metadata": {},
     "output_type": "execute_result"
    }
   ],
   "source": [
    "#clear the dictionary\n",
    "account.clear()\n",
    "account"
   ]
  },
  {
   "cell_type": "markdown",
   "metadata": {},
   "source": [
    "    "
   ]
  },
  {
   "cell_type": "markdown",
   "metadata": {},
   "source": [
    "<a id=\"sets\"> </a>\n",
    "## <span style=\"color:darkolivegreen\">**4. Introduction to Sets**</span>"
   ]
  },
  {
   "cell_type": "markdown",
   "metadata": {},
   "source": [
    "### Creating a Set\n",
    "In Python sets are written with curly `{}`brackets "
   ]
  },
  {
   "cell_type": "code",
   "execution_count": 11,
   "metadata": {},
   "outputs": [
    {
     "data": {
      "text/plain": [
       "{1, 2, 3, 4, 5, 6}"
      ]
     },
     "execution_count": 11,
     "metadata": {},
     "output_type": "execute_result"
    }
   ],
   "source": [
    "# create a set\n",
    "s = {1,2,3, 3, 3, 3, 4, 5, 5, 6}\n",
    "s\n"
   ]
  },
  {
   "cell_type": "markdown",
   "metadata": {},
   "source": [
    "    "
   ]
  },
  {
   "cell_type": "markdown",
   "metadata": {},
   "source": [
    "**Try it yourself.**\n",
    "\n",
    "Python has the following methods that you can use on sets:<br>\n",
    "\n",
    "`add()`<br>\n",
    "`update()`<br>\n",
    "`len()`<br>\n",
    "`pop()`<br>"
   ]
  },
  {
   "cell_type": "code",
   "execution_count": 14,
   "metadata": {},
   "outputs": [
    {
     "data": {
      "text/plain": [
       "{1, 2, 3, 4, 5, 6, '7'}"
      ]
     },
     "execution_count": 14,
     "metadata": {},
     "output_type": "execute_result"
    }
   ],
   "source": [
    "s.add('7')\n",
    "s"
   ]
  }
 ],
 "metadata": {
  "colab": {
   "name": "Python Intro 2.ipynb",
   "provenance": []
  },
  "kernelspec": {
   "display_name": "Python 3 (ipykernel)",
   "language": "python",
   "name": "python3"
  },
  "language_info": {
   "codemirror_mode": {
    "name": "ipython",
    "version": 3
   },
   "file_extension": ".py",
   "mimetype": "text/x-python",
   "name": "python",
   "nbconvert_exporter": "python",
   "pygments_lexer": "ipython3",
   "version": "3.9.13"
  }
 },
 "nbformat": 4,
 "nbformat_minor": 1
}
