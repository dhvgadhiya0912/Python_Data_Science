{
 "cells": [
  {
   "cell_type": "markdown",
   "id": "34b7c500",
   "metadata": {},
   "source": [
    "## <span style=\"color:darkolivegreen\">Conditional Statement and Loops</span>\n",
    "\n",
    "1. **[if statement](#if_statement)**\n",
    "2. **[if else statement](#if_else)**\n",
    "3. **[if elif else](#if_elif_else)**\n",
    "4. **[for loop](#forloop)**\n",
    "5. **[while loop](#whileloop)**\n",
    "6. **[break statement](#breakstatement)**\n",
    "7. **[continue statement](#continuestatement)**"
   ]
  },
  {
   "cell_type": "markdown",
   "id": "aa052c9e",
   "metadata": {},
   "source": [
    "<a id=\"if_statement\"> </a>\n",
    "## 1. if statement\n"
   ]
  },
  {
   "cell_type": "markdown",
   "id": "d4fbf84d",
   "metadata": {},
   "source": [
    "**syntax:**<br><br>\n",
    "if EXPRESSION:<br>\n",
    "&nbsp;&nbsp;    STATEMENTS\n",
    "\n",
    "Use colon `:` and `indentation` correctly"
   ]
  },
  {
   "cell_type": "markdown",
   "id": "5954de58",
   "metadata": {},
   "source": [
    "####  Now, we will see some examples on if statements"
   ]
  },
  {
   "cell_type": "code",
   "execution_count": 5,
   "id": "f01f7b0b",
   "metadata": {},
   "outputs": [
    {
     "name": "stdout",
     "output_type": "stream",
     "text": [
      "True\n"
     ]
    }
   ],
   "source": [
    "# create a list and check for the element in the list\n",
    "\n",
    "my_list = ['Data Science','Python','Java']\n",
    "\n",
    "if 'Python' in my_list:\n",
    "    print('True')"
   ]
  },
  {
   "cell_type": "code",
   "execution_count": 10,
   "id": "5e8397fe",
   "metadata": {},
   "outputs": [
    {
     "name": "stdout",
     "output_type": "stream",
     "text": [
      "15\n"
     ]
    }
   ],
   "source": [
    "a = 10\n",
    "b = 5\n",
    "\n",
    "if a+b > 10:\n",
    "    print(a+b)"
   ]
  },
  {
   "cell_type": "markdown",
   "id": "d95bba7f",
   "metadata": {},
   "source": [
    "<a id=\"if_else\"> </a>\n",
    "## 2. if else statement\n"
   ]
  },
  {
   "cell_type": "markdown",
   "id": "70bbf702",
   "metadata": {},
   "source": [
    "**Syntax of if...else**<br><br>\n",
    "if EXPRESSION:<br>\n",
    "&nbsp;&nbsp;    STATEMENT_1<br>\n",
    "else:<br>\n",
    "&nbsp;&nbsp;    STATEMENT_2\n",
    "\n",
    "\n",
    "The `else` keyword catches anything which isn't caught by the preceeding conditions."
   ]
  },
  {
   "cell_type": "code",
   "execution_count": 11,
   "id": "8117b05d",
   "metadata": {},
   "outputs": [
    {
     "name": "stdout",
     "output_type": "stream",
     "text": [
      "Number is greater than 50\n"
     ]
    }
   ],
   "source": [
    "# 2 conditions - Check if a number is greater than 50 or less than 50\n",
    "# or write a username password program\n",
    "a = 80\n",
    "\n",
    "if a < 50:\n",
    "    print('Number is less than 50')\n",
    "else:\n",
    "    print('Number is greater than 50')"
   ]
  },
  {
   "cell_type": "markdown",
   "id": "b256288f",
   "metadata": {},
   "source": [
    "<a id=\"if_elif_else\"> </a>\n",
    "## 3. if elif else\n"
   ]
  },
  {
   "cell_type": "markdown",
   "id": "b778a72e",
   "metadata": {},
   "source": [
    "**Syntax of if elif else:**<br><br>\n",
    "if expression 1:<br>\n",
    "&nbsp;&nbsp;    STATEMENTS_A<br>\n",
    "elif expression 2:<br>\n",
    "&nbsp;&nbsp;   STATEMENTS_B<br>\n",
    "else:<br>\n",
    "&nbsp;&nbsp;    STATEMENTS_C"
   ]
  },
  {
   "cell_type": "code",
   "execution_count": 12,
   "id": "9d3eecb0",
   "metadata": {},
   "outputs": [
    {
     "name": "stdout",
     "output_type": "stream",
     "text": [
      "num equal to 0\n"
     ]
    }
   ],
   "source": [
    "# 3 or more conditions - Check whether the given number equals 0, greater than 50 or less than 50. \n",
    "num = 0\n",
    "\n",
    "if (num == 0):\n",
    "    print('num equal to 0')\n",
    "elif (num > 50):\n",
    "    print('num greater than 50')\n",
    "else:\n",
    "    print('num is less than 50')"
   ]
  },
  {
   "cell_type": "markdown",
   "id": "dafbd727",
   "metadata": {},
   "source": [
    "<a id=\"forloop\"> </a>\n",
    "## 4. for loop\n"
   ]
  },
  {
   "cell_type": "markdown",
   "id": "e0f300d7",
   "metadata": {},
   "source": [
    "**Syntax of for loop:**<br><br>\n",
    "for val in sequence:<br>\n",
    "&nbsp;&nbsp;\tBody of for <br><br>\n",
    "\n",
    "\n",
    "\n",
    "A `for` loop is used for iterating over a sequence (that is either a list, a tuple, a dictionary, a set)."
   ]
  },
  {
   "cell_type": "code",
   "execution_count": 13,
   "id": "fc0d7d21",
   "metadata": {
    "scrolled": true
   },
   "outputs": [
    {
     "name": "stdout",
     "output_type": "stream",
     "text": [
      "1\n",
      "4\n",
      "9\n",
      "16\n",
      "25\n",
      "36\n",
      "49\n",
      "64\n"
     ]
    }
   ],
   "source": [
    "# create a list of numbers, using for loop, square each number\n",
    "\n",
    "numbers = [1,2,3,4,5,6,7,8]\n",
    "\n",
    "# iterate over each element of the list\n",
    "\n",
    "for val in numbers:\n",
    "    print(val**2)"
   ]
  },
  {
   "cell_type": "markdown",
   "id": "5f638aad",
   "metadata": {},
   "source": [
    "<a id=\"whileloop\"> </a>\n",
    "## 5. while loop"
   ]
  },
  {
   "cell_type": "markdown",
   "id": "0ea37aa4",
   "metadata": {},
   "source": [
    "**Syntax of for loop:**<br><br>\n",
    "while (expression):<br>\n",
    "&nbsp;&nbsp;     statement_1<br>\n",
    "&nbsp;&nbsp;     statement_2<br>\n",
    "    .... \n",
    "<br><br>\n",
    "With the `while` loop we can execute a set of statements as long as a condition is true."
   ]
  },
  {
   "cell_type": "code",
   "execution_count": 21,
   "id": "cdc1f420",
   "metadata": {},
   "outputs": [
    {
     "name": "stdout",
     "output_type": "stream",
     "text": [
      "12345"
     ]
    }
   ],
   "source": [
    "# print the first 5 digits\n",
    "\n",
    "i = 1\n",
    "while i<6:\n",
    "    num.append(i)\n",
    "    print(i,end=\"\")\n",
    "    i = i+1"
   ]
  },
  {
   "cell_type": "markdown",
   "id": "b9d1228c",
   "metadata": {},
   "source": [
    "<a id=\"breakstatement\"> </a>\n",
    "## 6. break statement\n",
    "\n",
    "\n",
    "<br>The `break` keyword is used to break out of a loop completely."
   ]
  },
  {
   "cell_type": "code",
   "execution_count": 23,
   "id": "fa522e7a",
   "metadata": {},
   "outputs": [
    {
     "name": "stdout",
     "output_type": "stream",
     "text": [
      "1\n",
      "4\n",
      "9\n"
     ]
    }
   ],
   "source": [
    "# create a list of numbers, and if number is 4; break out\n",
    "\n",
    "numbers = [1,2,3,4,5,6,7,8]\n",
    "\n",
    "# iterate over each element of the list\n",
    "\n",
    "for val in numbers:\n",
    "    if val == 4:\n",
    "        break\n",
    "    print(val**2)"
   ]
  },
  {
   "cell_type": "markdown",
   "id": "6deaf9a8",
   "metadata": {},
   "source": [
    "### <a id=\"continuestatement\"> </a>\n",
    "## 7. continue statement\n",
    "\n",
    "\n",
    "The `continue` keyword is used to end the current iteration in a loop, and continue to the next iteration."
   ]
  },
  {
   "cell_type": "code",
   "execution_count": 24,
   "id": "d81f58e8",
   "metadata": {},
   "outputs": [
    {
     "name": "stdout",
     "output_type": "stream",
     "text": [
      "1\n",
      "4\n",
      "9\n",
      "25\n",
      "36\n",
      "49\n",
      "64\n"
     ]
    }
   ],
   "source": [
    "# create a list of numbers, and if numebr is 4; continue to next iteration\n",
    "numbers = [1,2,3,4,5,6,7,8]\n",
    "\n",
    "# iterate over each element of the list\n",
    "\n",
    "for val in numbers:\n",
    "    if val == 4:\n",
    "        continue\n",
    "    print(val**2)"
   ]
  },
  {
   "cell_type": "markdown",
   "id": "dfe83c60",
   "metadata": {},
   "source": [
    "Break and continue are hard conditions used in side a loop to handle exceptions."
   ]
  },
  {
   "cell_type": "markdown",
   "id": "9e0654ba",
   "metadata": {},
   "source": [
    "**Try it yourself!**\n",
    "\n",
    "* Nested loops"
   ]
  }
 ],
 "metadata": {
  "kernelspec": {
   "display_name": "Python 3 (ipykernel)",
   "language": "python",
   "name": "python3"
  },
  "language_info": {
   "codemirror_mode": {
    "name": "ipython",
    "version": 3
   },
   "file_extension": ".py",
   "mimetype": "text/x-python",
   "name": "python",
   "nbconvert_exporter": "python",
   "pygments_lexer": "ipython3",
   "version": "3.9.13"
  }
 },
 "nbformat": 4,
 "nbformat_minor": 5
}
